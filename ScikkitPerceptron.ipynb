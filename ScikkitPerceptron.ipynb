{
  "nbformat": 4,
  "nbformat_minor": 0,
  "metadata": {
    "colab": {
      "provenance": []
    },
    "kernelspec": {
      "name": "python3",
      "display_name": "Python 3"
    },
    "language_info": {
      "name": "python"
    }
  },
  "cells": [
    {
      "cell_type": "code",
      "source": [
        "import numpy as np\n",
        "import pandas as pd\n",
        "import matplotlib\n",
        "import matplotlib.pyplot as plt\n",
        "import io\n",
        "from sklearn.linear_model import Perceptron\n",
        "%matplotlib inline\n",
        "from google.colab import files\n",
        "\n",
        "data = pd.read_csv('/letters.data', header=None)\n",
        "#data.tail()\n",
        "\n",
        "X = data.iloc[[0, 1, 3, 10, 16, 17, 18, 21, 22, 23], 0:35].values\n",
        "\n",
        "print(f\"wartosci X: \\n{X}\")\n",
        "print(\"Wymiary tablicy X:\", X.shape)\n",
        "print(\"Rozmiar tablicy X:\", X.size)\n"
      ],
      "metadata": {
        "id": "sDb9wY6TPuot",
        "colab": {
          "base_uri": "https://localhost:8080/"
        },
        "outputId": "93cadfb0-4eb8-4c99-c997-d4a3fd369637"
      },
      "execution_count": 2,
      "outputs": [
        {
          "output_type": "stream",
          "name": "stdout",
          "text": [
            "wartosci X: \n",
            "[[-1  1  1  1 -1  1 -1 -1 -1  1  1 -1 -1 -1  1  1  1  1  1  1  1 -1 -1 -1\n",
            "   1  1 -1 -1 -1  1  1 -1 -1 -1  1]\n",
            " [ 1  1  1  1 -1  1 -1 -1 -1  1  1 -1 -1 -1  1  1  1  1  1 -1  1 -1 -1 -1\n",
            "   1  1 -1 -1 -1  1  1  1  1  1 -1]\n",
            " [ 1  1  1  1 -1  1 -1 -1 -1  1  1 -1 -1 -1  1  1 -1 -1 -1  1  1 -1 -1 -1\n",
            "   1  1 -1 -1 -1  1  1  1  1  1 -1]\n",
            " [ 1 -1 -1 -1  1  1 -1 -1  1 -1  1 -1  1 -1 -1  1  1 -1 -1 -1  1 -1  1 -1\n",
            "  -1  1 -1 -1  1 -1  1 -1 -1 -1  1]\n",
            " [-1  1  1  1 -1  1 -1 -1 -1  1  1 -1 -1 -1  1  1 -1 -1 -1  1  1 -1  1 -1\n",
            "   1  1 -1 -1  1  1 -1  1  1  1  1]\n",
            " [ 1  1  1  1 -1  1 -1 -1 -1  1  1 -1 -1 -1  1  1  1  1  1 -1  1 -1  1 -1\n",
            "  -1  1 -1 -1  1 -1  1 -1 -1 -1  1]\n",
            " [-1  1  1  1 -1  1 -1 -1 -1  1  1 -1 -1 -1 -1 -1  1  1  1 -1 -1 -1 -1 -1\n",
            "   1  1 -1 -1 -1  1 -1  1  1  1 -1]\n",
            " [ 1 -1 -1 -1  1  1 -1 -1 -1  1  1 -1 -1 -1  1  1 -1 -1 -1  1  1 -1 -1 -1\n",
            "   1 -1  1 -1  1 -1 -1 -1  1 -1 -1]\n",
            " [ 1 -1 -1 -1  1  1 -1 -1 -1  1  1 -1 -1 -1  1  1 -1 -1 -1  1  1 -1  1 -1\n",
            "   1  1 -1  1 -1  1 -1  1 -1  1 -1]\n",
            " [ 1 -1 -1 -1  1  1 -1 -1 -1  1 -1  1 -1  1 -1 -1 -1  1 -1 -1 -1  1 -1  1\n",
            "  -1  1 -1 -1 -1  1  1 -1 -1 -1  1]]\n",
            "Wymiary tablicy X: (10, 35)\n",
            "Rozmiar tablicy X: 350\n"
          ]
        }
      ]
    },
    {
      "cell_type": "code",
      "source": [
        "y = np.zeros((10, 10))\n",
        "for i in range(10):\n",
        "    for j in range(10):\n",
        "        if i==j:\n",
        "            y[i, j] = 1\n",
        "        else:\n",
        "            y[i, j] = -1\n",
        "\n",
        "y = y.astype(np.int64)\n",
        "print(f\"wartosci y: \\n{y}\")\n",
        "print(\"Wymiary tablicy y:\", y.shape)\n",
        "print(\"Rozmiar tablicy y:\", y.size)\n"
      ],
      "metadata": {
        "id": "uVyDaMoQw8sO",
        "colab": {
          "base_uri": "https://localhost:8080/"
        },
        "outputId": "7e3f15cd-b8ae-4b04-b96a-13f97f7c4616"
      },
      "execution_count": 3,
      "outputs": [
        {
          "output_type": "stream",
          "name": "stdout",
          "text": [
            "wartosci y: \n",
            "[[ 1 -1 -1 -1 -1 -1 -1 -1 -1 -1]\n",
            " [-1  1 -1 -1 -1 -1 -1 -1 -1 -1]\n",
            " [-1 -1  1 -1 -1 -1 -1 -1 -1 -1]\n",
            " [-1 -1 -1  1 -1 -1 -1 -1 -1 -1]\n",
            " [-1 -1 -1 -1  1 -1 -1 -1 -1 -1]\n",
            " [-1 -1 -1 -1 -1  1 -1 -1 -1 -1]\n",
            " [-1 -1 -1 -1 -1 -1  1 -1 -1 -1]\n",
            " [-1 -1 -1 -1 -1 -1 -1  1 -1 -1]\n",
            " [-1 -1 -1 -1 -1 -1 -1 -1  1 -1]\n",
            " [-1 -1 -1 -1 -1 -1 -1 -1 -1  1]]\n",
            "Wymiary tablicy y: (10, 10)\n",
            "Rozmiar tablicy y: 100\n"
          ]
        }
      ]
    },
    {
      "cell_type": "code",
      "source": [
        "class SLP(object):\n",
        "    def __init__(self, eta=0.05, n_iter=50, random_state=1):\n",
        "        self.eta = eta\n",
        "        self.n_iter = n_iter\n",
        "        self.w_ = None\n",
        "        self.ppns = []\n",
        "        self.random_state = None\n",
        "\n",
        "    def fit(self, X, y):\n",
        "        for i in range(10):\n",
        "            ppn = Perceptron(eta0=self.eta, max_iter=self.n_iter, random_state=self.random_state)\n",
        "            self.ppns.append(ppn) \n",
        "        for j in range(10):\n",
        "            self.ppns[j].fit(X, y[j])\n",
        "\n",
        "    def predict(self, X):\n",
        "        predictions = []\n",
        "        for i in range(len(self.ppns)):\n",
        "            predictions.append(self.ppns[i].predict(X))\n",
        "        return predictions\n",
        "\n",
        "    def misclassified(self, X, y):\n",
        "        errors = 0\n",
        "        predictions = self.predict(X)\n",
        "        predictions = np.array(predictions) \n",
        "        for i in range(10):\n",
        "            for j in range(10):\n",
        "                if predictions[i, j] != y[i, j]:\n",
        "                    errors += 1\n",
        "        return errors\n",
        "        \n",
        "        \n",
        "    def show(self, X):\n",
        "        fig, axs = plt.subplots(2, 5)\n",
        "        iter = 0\n",
        "        for i in X:\n",
        "            letter = np.reshape(i,(7,5))\n",
        "            axs[iter // 5][iter % 5].imshow(letter, cmap='binary', vmin=0, vmax=1)\n",
        "            iter += 1\n",
        "        plt.tight_layout()\n",
        "        plt.show()\n",
        "\n",
        "net = SLP()"
      ],
      "metadata": {
        "id": "uwXp6qwRQXoa"
      },
      "execution_count": 6,
      "outputs": []
    },
    {
      "cell_type": "code",
      "source": [
        "net.fit(X, y)"
      ],
      "metadata": {
        "id": "guuyaJocG8xL"
      },
      "execution_count": 7,
      "outputs": []
    },
    {
      "cell_type": "code",
      "source": [
        "net.predict(X)"
      ],
      "metadata": {
        "colab": {
          "base_uri": "https://localhost:8080/"
        },
        "id": "tTma15TeHIXL",
        "outputId": "cdfd53fd-2092-4e52-b7fa-7a9a21cfc46d"
      },
      "execution_count": null,
      "outputs": [
        {
          "output_type": "execute_result",
          "data": {
            "text/plain": [
              "[array([ 1, -1, -1, -1, -1, -1, -1, -1, -1, -1]),\n",
              " array([-1,  1, -1, -1, -1, -1, -1, -1, -1, -1]),\n",
              " array([-1, -1,  1, -1, -1, -1, -1, -1, -1, -1]),\n",
              " array([-1, -1, -1,  1, -1, -1, -1, -1, -1, -1]),\n",
              " array([-1, -1, -1, -1,  1, -1, -1, -1, -1, -1]),\n",
              " array([-1, -1, -1, -1, -1,  1, -1, -1, -1, -1]),\n",
              " array([-1, -1, -1, -1, -1, -1,  1, -1, -1, -1]),\n",
              " array([-1, -1, -1, -1, -1, -1, -1,  1, -1, -1]),\n",
              " array([-1, -1, -1, -1, -1, -1, -1, -1,  1, -1]),\n",
              " array([-1, -1, -1, -1, -1, -1, -1, -1, -1,  1])]"
            ]
          },
          "metadata": {},
          "execution_count": 291
        }
      ]
    },
    {
      "cell_type": "code",
      "source": [
        "net.misclassified(X,y)"
      ],
      "metadata": {
        "colab": {
          "base_uri": "https://localhost:8080/"
        },
        "id": "R4Ih4VC6SQ37",
        "outputId": "1a100469-7d94-4160-c371-abafb21ce8a2"
      },
      "execution_count": 8,
      "outputs": [
        {
          "output_type": "execute_result",
          "data": {
            "text/plain": [
              "0"
            ]
          },
          "metadata": {},
          "execution_count": 8
        }
      ]
    },
    {
      "cell_type": "code",
      "source": [
        "net.show(X)"
      ],
      "metadata": {
        "colab": {
          "base_uri": "https://localhost:8080/",
          "height": 408
        },
        "id": "JMVuI26x4Qmr",
        "outputId": "6f1e1776-bf0e-489f-a63a-59f98ff0bb76"
      },
      "execution_count": 9,
      "outputs": [
        {
          "output_type": "display_data",
          "data": {
            "text/plain": [
              "<Figure size 640x480 with 10 Axes>"
            ],
            "image/png": "[encoded data removed]"
          },
          "metadata": {}
        }
      ]
    },
    {
      "cell_type": "code",
      "source": [
        "def damage(X, percent, seed=1):\n",
        "        rgen = np.random.RandomState(seed)\n",
        "        result = np.array( X )\n",
        "        count = int(X.shape[1]*percent/100)\n",
        "\n",
        "        for indeks_example in range( len(X) ):\n",
        "            order = np.sort(rgen.choice(X.shape[1], count, replace=False))\n",
        "            for indeks_pixel in order:\n",
        "                result[indeks_example][indeks_pixel] *= -1\n",
        "        return result\n",
        "\n",
        "damaged5 = damage(X,5)\n",
        "damaged15 = damage(X,15)\n",
        "damaged40 = damage(X,40)"
      ],
      "metadata": {
        "id": "rtGIaxxFQtMH"
      },
      "execution_count": 10,
      "outputs": []
    },
    {
      "cell_type": "code",
      "source": [
        "net.show(X)"
      ],
      "metadata": {
        "colab": {
          "base_uri": "https://localhost:8080/",
          "height": 408
        },
        "id": "4bscrhETliC0",
        "outputId": "12f0d76f-e1af-4aa0-cd37-958ed8133bf7"
      },
      "execution_count": 11,
      "outputs": [
        {
          "output_type": "display_data",
          "data": {
            "text/plain": [
              "<Figure size 640x480 with 10 Axes>"
            ],
            "image/png": "[encoded data removed]"
          },
          "metadata": {}
        }
      ]
    },
    {
      "cell_type": "code",
      "source": [
        "net.show(damaged5)"
      ],
      "metadata": {
        "colab": {
          "base_uri": "https://localhost:8080/",
          "height": 408
        },
        "id": "jsLrpv2UlmTN",
        "outputId": "3408a129-ae18-4124-8e0b-e0708ea29dcf"
      },
      "execution_count": 12,
      "outputs": [
        {
          "output_type": "display_data",
          "data": {
            "text/plain": [
              "<Figure size 640x480 with 10 Axes>"
            ],
            "image/png": "[encoded data removed]"
          },
          "metadata": {}
        }
      ]
    },
    {
      "cell_type": "code",
      "source": [
        "net.predict(damaged5)"
      ],
      "metadata": {
        "colab": {
          "base_uri": "https://localhost:8080/"
        },
        "id": "Yo8M3lWh0h4h",
        "outputId": "cd5677f2-c942-45b0-b461-5cf8d17d4c6e"
      },
      "execution_count": 18,
      "outputs": [
        {
          "output_type": "execute_result",
          "data": {
            "text/plain": [
              "[array([-1, -1, -1, -1, -1, -1, -1, -1, -1, -1]),\n",
              " array([-1,  1, -1, -1, -1, -1, -1, -1, -1, -1]),\n",
              " array([-1, -1, -1, -1, -1, -1, -1, -1, -1, -1]),\n",
              " array([-1, -1, -1,  1, -1, -1, -1, -1, -1, -1]),\n",
              " array([-1, -1, -1, -1,  1, -1, -1, -1, -1, -1]),\n",
              " array([-1, -1, -1, -1, -1,  1, -1, -1, -1, -1]),\n",
              " array([-1, -1, -1, -1, -1, -1,  1, -1, -1,  1]),\n",
              " array([-1, -1, -1, -1, -1, -1, -1,  1, -1, -1]),\n",
              " array([-1, -1, -1, -1, -1, -1, -1, -1,  1, -1]),\n",
              " array([-1, -1, -1, -1, -1, -1, -1, -1, -1,  1])]"
            ]
          },
          "metadata": {},
          "execution_count": 18
        }
      ]
    },
    {
      "cell_type": "code",
      "source": [
        "net.misclassified(damaged5, y)"
      ],
      "metadata": {
        "colab": {
          "base_uri": "https://localhost:8080/"
        },
        "id": "2xw9-ogodsNh",
        "outputId": "3475bdb1-8dfc-4583-cf4e-8d65074e189a"
      },
      "execution_count": 13,
      "outputs": [
        {
          "output_type": "execute_result",
          "data": {
            "text/plain": [
              "3"
            ]
          },
          "metadata": {},
          "execution_count": 13
        }
      ]
    },
    {
      "cell_type": "code",
      "source": [
        "net.show(damaged15)"
      ],
      "metadata": {
        "colab": {
          "base_uri": "https://localhost:8080/",
          "height": 408
        },
        "id": "BOeHW9RyloLw",
        "outputId": "99837db2-49e9-4a14-b443-0c6afc061098"
      },
      "execution_count": 21,
      "outputs": [
        {
          "output_type": "display_data",
          "data": {
            "text/plain": [
              "<Figure size 640x480 with 10 Axes>"
            ],
            "image/png": "[encoded data removed]"
          },
          "metadata": {}
        }
      ]
    },
    {
      "cell_type": "code",
      "source": [
        "net.predict(damaged15)"
      ],
      "metadata": {
        "colab": {
          "base_uri": "https://localhost:8080/"
        },
        "id": "dPfzcwQE0kas",
        "outputId": "a0fd929d-eccd-4097-a844-20983f06581e"
      },
      "execution_count": 19,
      "outputs": [
        {
          "output_type": "execute_result",
          "data": {
            "text/plain": [
              "[array([-1, -1, -1, -1, -1, -1, -1, -1, -1, -1]),\n",
              " array([-1,  1, -1, -1, -1, -1,  1,  1, -1, -1]),\n",
              " array([-1, -1, -1,  1, -1, -1, -1, -1, -1, -1]),\n",
              " array([-1, -1, -1,  1, -1, -1, -1, -1, -1, -1]),\n",
              " array([-1, -1,  1,  1,  1, -1, -1, -1, -1, -1]),\n",
              " array([-1, -1, -1,  1, -1, -1,  1, -1, -1, -1]),\n",
              " array([-1,  1, -1, -1, -1, -1,  1, -1, -1,  1]),\n",
              " array([-1, -1, -1, -1, -1, -1, -1,  1, -1, -1]),\n",
              " array([-1, -1, -1, -1, -1, -1, -1, -1,  1, -1]),\n",
              " array([-1, -1, -1, -1, -1, -1,  1, -1, -1,  1])]"
            ]
          },
          "metadata": {},
          "execution_count": 19
        }
      ]
    },
    {
      "cell_type": "code",
      "source": [
        "net.misclassified(damaged15, y)"
      ],
      "metadata": {
        "colab": {
          "base_uri": "https://localhost:8080/"
        },
        "id": "TmpJ7FXTd6S7",
        "outputId": "78e2ee44-e688-41ec-dae4-d600437cc417"
      },
      "execution_count": 22,
      "outputs": [
        {
          "output_type": "execute_result",
          "data": {
            "text/plain": [
              "13"
            ]
          },
          "metadata": {},
          "execution_count": 22
        }
      ]
    },
    {
      "cell_type": "code",
      "source": [
        "net.show(damaged40)"
      ],
      "metadata": {
        "colab": {
          "base_uri": "https://localhost:8080/",
          "height": 408
        },
        "id": "Tze5xJbIlqCO",
        "outputId": "04ba9255-e1fb-4b13-e0dc-b46825bbeeb4"
      },
      "execution_count": 16,
      "outputs": [
        {
          "output_type": "display_data",
          "data": {
            "text/plain": [
              "<Figure size 640x480 with 10 Axes>"
            ],
            "image/png": "[encoded data removed]"
          },
          "metadata": {}
        }
      ]
    },
    {
      "cell_type": "code",
      "source": [
        "net.predict(damaged40)"
      ],
      "metadata": {
        "colab": {
          "base_uri": "https://localhost:8080/"
        },
        "id": "b3NnPx710mrf",
        "outputId": "65ed7b41-7117-4cde-899e-87c20c578386"
      },
      "execution_count": 20,
      "outputs": [
        {
          "output_type": "execute_result",
          "data": {
            "text/plain": [
              "[array([-1, -1, -1,  1, -1, -1,  1, -1, -1, -1]),\n",
              " array([-1, -1, -1,  1, -1, -1,  1,  1, -1, -1]),\n",
              " array([-1, -1, -1,  1, -1, -1,  1, -1,  1, -1]),\n",
              " array([-1, -1, -1, -1,  1, -1,  1,  1, -1, -1]),\n",
              " array([-1, -1, -1, -1,  1, -1,  1, -1,  1, -1]),\n",
              " array([-1, -1, -1,  1, -1, -1,  1,  1, -1, -1]),\n",
              " array([-1, -1, -1, -1,  1, -1,  1, -1,  1,  1]),\n",
              " array([-1, -1, -1, -1,  1, -1,  1,  1, -1, -1]),\n",
              " array([-1, -1, -1, -1, -1, -1,  1,  1, -1, -1]),\n",
              " array([-1, -1, -1, -1, -1, -1, -1, -1, -1,  1])]"
            ]
          },
          "metadata": {},
          "execution_count": 20
        }
      ]
    },
    {
      "cell_type": "code",
      "source": [
        "net.misclassified(damaged40, y)"
      ],
      "metadata": {
        "colab": {
          "base_uri": "https://localhost:8080/"
        },
        "id": "CLX6iPAwd-9u",
        "outputId": "fe60d18f-1f5b-435f-fda4-9f836505d20c"
      },
      "execution_count": 17,
      "outputs": [
        {
          "output_type": "execute_result",
          "data": {
            "text/plain": [
              "29"
            ]
          },
          "metadata": {},
          "execution_count": 17
        }
      ]
    }
  ]
}